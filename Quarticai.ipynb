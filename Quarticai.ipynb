{
  "nbformat": 4,
  "nbformat_minor": 0,
  "metadata": {
    "colab": {
      "name": "Quarticai.ipynb",
      "version": "0.3.2",
      "provenance": [],
      "collapsed_sections": [],
      "include_colab_link": true
    },
    "kernelspec": {
      "name": "python3",
      "display_name": "Python 3"
    },
    "accelerator": "TPU"
  },
  "cells": [
    {
      "cell_type": "markdown",
      "metadata": {
        "id": "view-in-github",
        "colab_type": "text"
      },
      "source": [
        "<a href=\"https://colab.research.google.com/github/gopiprasanthpotipireddy/Quartic.ai-Challenge/blob/master/Quarticai.ipynb\" target=\"_parent\"><img src=\"https://colab.research.google.com/assets/colab-badge.svg\" alt=\"Open In Colab\"/></a>"
      ]
    },
    {
      "metadata": {
        "id": "RYmWo-80dOUT",
        "colab_type": "text"
      },
      "cell_type": "markdown",
      "source": [
        "installing Python utilities"
      ]
    },
    {
      "metadata": {
        "id": "jSaF3nVQ1NxC",
        "colab_type": "code",
        "outputId": "17264ec6-ab7d-4979-95ce-a50259086f6a",
        "colab": {
          "base_uri": "https://localhost:8080/",
          "height": 121
        }
      },
      "cell_type": "code",
      "source": [
        "!apt-get --fix-broken install python-pycurl python-apt\n",
        "!apt-get install -y -qq software-properties-common module-init-tools git-core\n",
        "!add-apt-repository -y ppa:alessandro-strada/ppa 2>&1 > /dev/null\n",
        "!apt-get update -qq 2>&1 > /dev/null\n"
      ],
      "execution_count": 3,
      "outputs": [
        {
          "output_type": "stream",
          "text": [
            "Reading package lists... Done\n",
            "Building dependency tree       \n",
            "Reading state information... Done\n",
            "python-pycurl is already the newest version (7.43.0.1-0.2).\n",
            "python-apt is already the newest version (1.6.3ubuntu1).\n",
            "0 upgraded, 0 newly installed, 0 to remove and 8 not upgraded.\n"
          ],
          "name": "stdout"
        }
      ]
    },
    {
      "metadata": {
        "id": "poxI6SZqdYqH",
        "colab_type": "text"
      },
      "cell_type": "markdown",
      "source": [
        "installing and suthenticating drive"
      ]
    },
    {
      "metadata": {
        "id": "4XpXDkM1cdLz",
        "colab_type": "code",
        "colab": {}
      },
      "cell_type": "code",
      "source": [
        "!apt-get -y install -qq google-drive-ocamlfuse fuse\n",
        "from google.colab import auth\n",
        "auth.authenticate_user()\n",
        "from oauth2client.client import GoogleCredentials\n",
        "creds = GoogleCredentials.get_application_default()\n",
        "import getpass\n",
        "!google-drive-ocamlfuse -headless -id={creds.client_id} -secret={creds.client_secret} < /dev/null 2>&1 | grep URL\n",
        "vcode = getpass.getpass()\n",
        "!echo {vcode} | google-drive-ocamlfuse -headless -id={creds.client_id} -secret={creds.client_secret}"
      ],
      "execution_count": 0,
      "outputs": []
    },
    {
      "metadata": {
        "id": "7HmsqOw9ddaO",
        "colab_type": "text"
      },
      "cell_type": "markdown",
      "source": [
        "mounting drive"
      ]
    },
    {
      "metadata": {
        "id": "9cUeYYWm2gBS",
        "colab_type": "code",
        "colab": {}
      },
      "cell_type": "code",
      "source": [
        "!mkdir -p drive\n",
        "!google-drive-ocamlfuse drive"
      ],
      "execution_count": 0,
      "outputs": []
    },
    {
      "metadata": {
        "id": "pwUAklPKeEx9",
        "colab_type": "text"
      },
      "cell_type": "markdown",
      "source": [
        "Quartic App Api"
      ]
    },
    {
      "metadata": {
        "id": "nwdLvlX30u8s",
        "colab_type": "code",
        "colab": {}
      },
      "cell_type": "code",
      "source": [
        "import os\n",
        "import pandas as pd\n",
        "from sklearn.metrics import average_precision_score,confusion_matrix, roc_curve, auc\n",
        "import matplotlib.pyplot as plt\n",
        "\n",
        "class QuarticApp:\n",
        "    def __init__(self):\n",
        "        self.train_data = None\n",
        "        self.test_data= None\n",
        "        return\n",
        "    \n",
        "    def read_data(self):\n",
        "        file_location=\"drive/Quartic.ai/ds_data/\"\n",
        "        self.train_data=pd.read_csv(os.path.join(file_location,\"data_train.csv\"))\n",
        "        self.test_data=pd.read_csv(os.path.join(file_location,\"data_test.csv\"))\n",
        "        #train_data.info()\n",
        "        #test_data=pd.read_csv(os.path.join(file_location,\"data_test.csv\"))\n",
        "        #test_data.info()\n",
        "        return\n",
        "\n",
        "    def build_model(self,model_type):\n",
        "        #model\n",
        "        return\n",
        "    \n",
        "    def ValidateColumns(self):    #checking for imputed and non imputed columns\n",
        "        self.features=list(self.train_data.columns)\n",
        "        self.im_features=[]\n",
        "        self.nonim_columns=[]\n",
        "        for i in range(1,len(self.train_data.columns)):\n",
        "            if self.train_data.iloc[:,i].isna().sum() == 0:\n",
        "                self.nonim_columns.append(self.features[i])\n",
        "            else:\n",
        "                self.im_features.append(self.features[i])\n",
        "                    \n",
        "        return \n",
        "\n",
        "def roc_binary(y_test,y_predict):\n",
        "    \n",
        "    fpr, tpr,_ = roc_curve(y_test, y_predict)\n",
        "    roc_auc = auc(fpr, tpr)\n",
        "    plt.figure()\n",
        "    plt.plot(fpr, tpr, color='darkorange',\n",
        "             lw=2, label='ROC curve (area = %0.2f)' % roc_auc)\n",
        "    plt.plot([0, 1], [0, 1], color='navy', lw=2, linestyle='--')\n",
        "    plt.xlim([0.0, 1.0])\n",
        "    plt.ylim([0.0, 1.05])\n",
        "    plt.xlabel('False Positive Rate')\n",
        "    plt.ylabel('True Positive Rate')\n",
        "    plt.title('ROC Curve')\n",
        "    plt.legend(loc=\"lower right\")\n",
        "    plt.show() "
      ],
      "execution_count": 0,
      "outputs": []
    },
    {
      "metadata": {
        "id": "xTbronWd3ZOZ",
        "colab_type": "text"
      },
      "cell_type": "markdown",
      "source": [
        "reading data"
      ]
    },
    {
      "metadata": {
        "id": "OWqw0WCW3QRh",
        "colab_type": "code",
        "colab": {}
      },
      "cell_type": "code",
      "source": [
        "Obj=QuarticApp()\n",
        "Obj.read_data()\n",
        "train_data=Obj.train_data\n",
        "train_data.columns\n",
        "train_data.info()\n",
        "test_data=Obj.test_data"
      ],
      "execution_count": 0,
      "outputs": []
    },
    {
      "metadata": {
        "id": "Z0EzkLJ7h2uR",
        "colab_type": "code",
        "colab": {}
      },
      "cell_type": "code",
      "source": [
        "train_data=train_data.drop(['id'],axis=1)\n",
        "test_data=test_data.drop(['id'],axis=1)\n"
      ],
      "execution_count": 0,
      "outputs": []
    },
    {
      "metadata": {
        "id": "3ol0YbzR9xPF",
        "colab_type": "text"
      },
      "cell_type": "markdown",
      "source": [
        "Validating for non imputable columns"
      ]
    },
    {
      "metadata": {
        "id": "WPTJfOnl9lWz",
        "colab_type": "code",
        "colab": {}
      },
      "cell_type": "code",
      "source": [
        "Obj.ValidateColumns()"
      ],
      "execution_count": 0,
      "outputs": []
    },
    {
      "metadata": {
        "id": "plVcjOyn5DhX",
        "colab_type": "code",
        "colab": {}
      },
      "cell_type": "code",
      "source": [
        "print (Obj.nonim_columns)\n",
        "Obj.nonim_columns.remove('target')"
      ],
      "execution_count": 0,
      "outputs": []
    },
    {
      "metadata": {
        "id": "sJxAhdXu9wcs",
        "colab_type": "text"
      },
      "cell_type": "markdown",
      "source": [
        "x and y"
      ]
    },
    {
      "metadata": {
        "id": "KbpkVFau9r2l",
        "colab_type": "code",
        "colab": {}
      },
      "cell_type": "code",
      "source": [
        "x=train_data[Obj.nonim_columns]\n",
        "y=train_data[\"target\"]"
      ],
      "execution_count": 0,
      "outputs": []
    },
    {
      "metadata": {
        "id": "uBUmHEMGiK9Z",
        "colab_type": "text"
      },
      "cell_type": "markdown",
      "source": [
        "installing imblearn package"
      ]
    },
    {
      "metadata": {
        "id": "o4bMuRdu-X_7",
        "colab_type": "code",
        "outputId": "332e9eee-ba79-4a70-d688-0e066d86a80a",
        "colab": {
          "base_uri": "https://localhost:8080/",
          "height": 280
        }
      },
      "cell_type": "code",
      "source": [
        "!pip install -U git+https://github.com/scikit-learn-contrib/imbalanced-learn.git"
      ],
      "execution_count": 11,
      "outputs": [
        {
          "output_type": "stream",
          "text": [
            "Collecting git+https://github.com/scikit-learn-contrib/imbalanced-learn.git\n",
            "  Cloning https://github.com/scikit-learn-contrib/imbalanced-learn.git to /tmp/pip-req-build-l2hcaes4\n",
            "Requirement already satisfied, skipping upgrade: numpy>=1.8.2 in /usr/local/lib/python3.6/dist-packages (from imbalanced-learn==0.5.0.dev0) (1.14.6)\n",
            "Requirement already satisfied, skipping upgrade: scipy>=0.13.3 in /usr/local/lib/python3.6/dist-packages (from imbalanced-learn==0.5.0.dev0) (1.1.0)\n",
            "Requirement already satisfied, skipping upgrade: scikit-learn>=0.20 in /usr/local/lib/python3.6/dist-packages (from imbalanced-learn==0.5.0.dev0) (0.20.2)\n",
            "Building wheels for collected packages: imbalanced-learn\n",
            "  Building wheel for imbalanced-learn (setup.py) ... \u001b[?25ldone\n",
            "\u001b[?25h  Stored in directory: /tmp/pip-ephem-wheel-cache-tc7gjvvw/wheels/6c/07/cf/38cb9b7cc9e6a0ac7648a80ec192b6f2d863405fb0049ac0ff\n",
            "Successfully built imbalanced-learn\n",
            "Installing collected packages: imbalanced-learn\n",
            "  Found existing installation: imbalanced-learn 0.4.3\n",
            "    Uninstalling imbalanced-learn-0.4.3:\n",
            "      Successfully uninstalled imbalanced-learn-0.4.3\n",
            "Successfully installed imbalanced-learn-0.5.0.dev0\n"
          ],
          "name": "stdout"
        }
      ]
    },
    {
      "metadata": {
        "id": "fyHfgE73_Tcs",
        "colab_type": "code",
        "colab": {
          "base_uri": "https://localhost:8080/",
          "height": 34
        },
        "outputId": "a6d13c76-cc20-4c40-d539-4015b9ee9e24"
      },
      "cell_type": "code",
      "source": [
        "from imblearn.over_sampling import RandomOverSampler"
      ],
      "execution_count": 12,
      "outputs": [
        {
          "output_type": "stream",
          "text": [
            "Using TensorFlow backend.\n"
          ],
          "name": "stderr"
        }
      ]
    },
    {
      "metadata": {
        "id": "hUOieaH_VnUd",
        "colab_type": "code",
        "colab": {}
      },
      "cell_type": "code",
      "source": [
        "from imblearn import over_sampling"
      ],
      "execution_count": 0,
      "outputs": []
    },
    {
      "metadata": {
        "id": "oJcLG5UsWBeB",
        "colab_type": "code",
        "colab": {}
      },
      "cell_type": "code",
      "source": [
        "from sklearn.svm import LinearSVC\n",
        "from sklearn import model_selection\n",
        "from sklearn.metrics import average_precision_score,confusion_matrix,precision_recall_curve,f1_score"
      ],
      "execution_count": 0,
      "outputs": []
    },
    {
      "metadata": {
        "id": "K_cHEKB5b0MI",
        "colab_type": "text"
      },
      "cell_type": "markdown",
      "source": [
        "Preparing Augmented Data using Random OverSampling"
      ]
    },
    {
      "metadata": {
        "id": "f-qi8rq2-P4W",
        "colab_type": "code",
        "colab": {}
      },
      "cell_type": "code",
      "source": [
        "#random oversampling\n",
        "ros = RandomOverSampler(random_state=0)\n",
        "\n",
        "x_resampled, y_resampled = ros.fit_resample(x, y)"
      ],
      "execution_count": 0,
      "outputs": []
    },
    {
      "metadata": {
        "id": "UFOTriiAb90L",
        "colab_type": "text"
      },
      "cell_type": "markdown",
      "source": [
        "Fitting Svc"
      ]
    },
    {
      "metadata": {
        "id": "vO94rkY5bs8W",
        "colab_type": "code",
        "colab": {}
      },
      "cell_type": "code",
      "source": [
        "cl=LinearSVC()\n"
      ],
      "execution_count": 0,
      "outputs": []
    },
    {
      "metadata": {
        "id": "QdgNzDSTvbCn",
        "colab_type": "code",
        "outputId": "7025def7-9ddc-4cf4-b9f9-a60aca1c5c29",
        "colab": {
          "base_uri": "https://localhost:8080/",
          "height": 156
        }
      },
      "cell_type": "code",
      "source": [
        "train_data.columns"
      ],
      "execution_count": 23,
      "outputs": [
        {
          "output_type": "execute_result",
          "data": {
            "text/plain": [
              "Index(['num1', 'num2', 'num3', 'num4', 'num5', 'num6', 'num7', 'num8', 'num9',\n",
              "       'num10', 'num11', 'num12', 'num13', 'num14', 'num15', 'num16', 'num17',\n",
              "       'num18', 'num19', 'num20', 'num21', 'num22', 'num23', 'der1', 'der2',\n",
              "       'der3', 'der4', 'der5', 'der6', 'der7', 'der8', 'der9', 'der10',\n",
              "       'der11', 'der12', 'der13', 'der14', 'der15', 'der16', 'der17', 'der18',\n",
              "       'der19', 'cat1', 'cat2', 'cat3', 'cat4', 'cat5', 'cat6', 'cat7', 'cat8',\n",
              "       'cat9', 'cat10', 'cat11', 'cat12', 'cat13', 'cat14', 'target'],\n",
              "      dtype='object')"
            ]
          },
          "metadata": {
            "tags": []
          },
          "execution_count": 23
        }
      ]
    },
    {
      "metadata": {
        "id": "-9s3kjGGva2V",
        "colab_type": "code",
        "colab": {}
      },
      "cell_type": "code",
      "source": [
        ""
      ],
      "execution_count": 0,
      "outputs": []
    },
    {
      "metadata": {
        "id": "Y07oajYbvT0y",
        "colab_type": "code",
        "colab": {}
      },
      "cell_type": "code",
      "source": [
        "x_train, x_test, y_train, y_test = model_selection.train_test_split(\n",
        "    x_resampled, y_resampled, test_size=0.7, random_state=42)\n",
        "cl.fit(x_train,y_train)"
      ],
      "execution_count": 0,
      "outputs": []
    },
    {
      "metadata": {
        "id": "Yi7-rXEvcAet",
        "colab_type": "text"
      },
      "cell_type": "markdown",
      "source": [
        "Prediction and Scores"
      ]
    },
    {
      "metadata": {
        "id": "6TsCvNYUbbzW",
        "colab_type": "code",
        "colab": {}
      },
      "cell_type": "code",
      "source": [
        "y_pred=cl.predict(x_test)\n",
        "f=confusion_matrix(y_test,y_pred)\n",
        "print (average_precision_score(y_test,y_pred))\n",
        "print (precision_recall_curve(y_test,y_pred))\n",
        "print (f1_score(y_test,y_pred))"
      ],
      "execution_count": 0,
      "outputs": []
    },
    {
      "metadata": {
        "id": "NhWFSj7Gq-7G",
        "colab_type": "code",
        "colab": {}
      },
      "cell_type": "code",
      "source": [
        "tn, fp, fn,tp=confusion_matrix(y_test,y_pred).ravel()\n",
        "\n",
        "\n"
      ],
      "execution_count": 0,
      "outputs": []
    },
    {
      "metadata": {
        "id": "EsSp3kXpu62R",
        "colab_type": "code",
        "colab": {}
      },
      "cell_type": "code",
      "source": [
        "len(train_data)\n",
        "tn+tp"
      ],
      "execution_count": 0,
      "outputs": []
    },
    {
      "metadata": {
        "id": "hZ5X3hbkuNPf",
        "colab_type": "code",
        "outputId": "6684ec17-19ea-487a-d5d3-c14423d38c6c",
        "colab": {
          "base_uri": "https://localhost:8080/",
          "height": 34
        }
      },
      "cell_type": "code",
      "source": [
        "precision_recall_curve(y_test,y_pred)\n"
      ],
      "execution_count": 0,
      "outputs": [
        {
          "output_type": "execute_result",
          "data": {
            "text/plain": [
              "(array([1., 1.]), array([1., 0.]), array([1]))"
            ]
          },
          "metadata": {
            "tags": []
          },
          "execution_count": 25
        }
      ]
    },
    {
      "metadata": {
        "id": "x_6sweIzuUQ1",
        "colab_type": "code",
        "outputId": "43be79a6-4ee2-46e7-80c5-f9c99a5c12b5",
        "colab": {
          "base_uri": "https://localhost:8080/",
          "height": 34
        }
      },
      "cell_type": "code",
      "source": [
        "average_precision_score(y_test,y_pred)\n"
      ],
      "execution_count": 0,
      "outputs": [
        {
          "output_type": "execute_result",
          "data": {
            "text/plain": [
              "1.0"
            ]
          },
          "metadata": {
            "tags": []
          },
          "execution_count": 23
        }
      ]
    },
    {
      "metadata": {
        "id": "UmW0JEvem-Iq",
        "colab_type": "code",
        "colab": {}
      },
      "cell_type": "code",
      "source": [
        "#!/usr/bin/env python3\n",
        "# -*- coding: utf-8 -*-\n",
        "\"\"\"\n",
        "Created on Thu Jun  7 22:58:00 2018\n",
        "\n",
        "@author: gopiprasanth\n",
        "\"\"\"\n",
        "\n",
        "\"\"\"Impute missing values with k nearest classifier.\"\"\"\n",
        "\n",
        "import numpy as np\n",
        "import pandas as pd\n",
        "from sklearn import neighbors\n",
        "\n",
        "\n",
        "class Imputer:\n",
        "    \"\"\"Imputer class.\"\"\"\n",
        "\n",
        "    def _fit(self, X, column, k=10, is_categorical=False):\n",
        "        \"\"\"Fit a knn classifier for missing column.\n",
        "        - Args:\n",
        "                X(numpy.ndarray): input data\n",
        "                column(int): column id to be imputed\n",
        "                k(int): number of nearest neighbors, default 10\n",
        "                is_categorical(boolean): is continuous or categorical feature\n",
        "        - Returns:\n",
        "                clf: trained k nearest neighbour classifier\n",
        "        \"\"\"\n",
        "        clf = None\n",
        "        if not is_categorical:\n",
        "            clf = neighbors.KNeighborsRegressor(n_neighbors=k)\n",
        "        else:\n",
        "            clf = neighbors.KNeighborsClassifier(n_neighbors=k)\n",
        "        # use column not null to train the kNN classifier\n",
        "        missing_idxes = np.where(pd.isnull(X[:, column]))[0]\n",
        "        if len(missing_idxes) == 0:\n",
        "            return None\n",
        "        X_copy = np.delete(X, missing_idxes, 0)\n",
        "        X_train = np.delete(X_copy, column, 1)\n",
        "        # if other columns still have missing values fill with mean\n",
        "        col_mean = None\n",
        "        if not is_categorical:\n",
        "            col_mean = np.nanmean(X, 0)\n",
        "        else:\n",
        "            col_mean = np.nanmedian(X, 0)\n",
        "        for col_id in range(0, len(col_mean) - 1):\n",
        "            col_missing_idxes = np.where(np.isnan(X_train[:, col_id]))[0]\n",
        "            if len(col_missing_idxes) == 0:\n",
        "                continue\n",
        "            else:\n",
        "                X_train[col_missing_idxes, col_id] = col_mean[col_id]\n",
        "        y_train = X_copy[:, column]\n",
        "        # fit classifier\n",
        "        clf.fit(X_train, y_train)\n",
        "        return clf\n",
        "\n",
        "    def _transform(self, X, column, clf, is_categorical):\n",
        "        \"\"\"Impute missing values.\n",
        "        - Args:\n",
        "                X(numpy.ndarray): input numpy ndarray\n",
        "                column(int): index of column to be imputed\n",
        "                clf: pretrained classifier\n",
        "                is_categorical(boolean): is continuous or categorical feature\n",
        "        - Returns:\n",
        "                X(pandas.dataframe): imputed dataframe\n",
        "        \"\"\"\n",
        "        missing_idxes = np.where(np.isnan(X[:, column]))[0]\n",
        "        X_test = X[missing_idxes, :]\n",
        "        X_test = np.delete(X_test, column, 1)\n",
        "        # if other columns still have missing values fill with mean\n",
        "        col_mean = None\n",
        "        if not is_categorical:\n",
        "            col_mean = np.nanmean(X, 0)\n",
        "        else:\n",
        "            col_mean = np.nanmedian(X, 0)\n",
        "        # fill missing values in each column with current col_mean\n",
        "        for col_id in range(0, len(col_mean) - 1):\n",
        "            col_missing_idxes = np.where(np.isnan(X_test[:, col_id]))[0]\n",
        "            # if no missing values for current column\n",
        "            if len(col_missing_idxes) == 0:\n",
        "                continue\n",
        "            else:\n",
        "                X_test[col_missing_idxes, col_id] = col_mean[col_id]\n",
        "        # predict missing values\n",
        "        y_test = clf.predict(X_test)\n",
        "        X[missing_idxes, column] = y_test\n",
        "        return X\n",
        "\n",
        "    def knn(self, X, column, k=10, is_categorical=False):\n",
        "        \"\"\"Impute missing value with knn.\n",
        "        - Args:\n",
        "                X(pandas.dataframe): dataframe\n",
        "                column(str): column name to be imputed\n",
        "                k(int): number of nearest neighbors, default 10\n",
        "                is_categorical(boolean): is continuous or categorical feature\n",
        "        - Returns:\n",
        "                X_imputed(pandas.dataframe): imputed pandas dataframe\n",
        "        \"\"\"\n",
        "        X, column = self._check_X_y(X, column)\n",
        "        clf = self._fit(X, column, k, is_categorical)\n",
        "        if clf is None:\n",
        "            return X\n",
        "        else:\n",
        "            X_imputed = self._transform(X, column, clf, is_categorical)\n",
        "            return X_imputed\n",
        "\n",
        "    def _check_X_y(self, X, column):\n",
        "        \"\"\"Check input, if pandas.dataframe, transform to numpy array.\n",
        "        - Args:\n",
        "                X(ndarray/pandas.dataframe): input instances\n",
        "                column(str/int): column index or column name\n",
        "        - Returns:\n",
        "                X(ndarray): input instances\n",
        "        \"\"\"\n",
        "        column_idx = None\n",
        "        if isinstance(X, pd.core.frame.DataFrame):\n",
        "            if isinstance(column, str):\n",
        "                # get index of current column\n",
        "                column_idx = X.columns.get_loc(column)\n",
        "            else:\n",
        "                column_idx = column\n",
        "            X = X.as_matrix()\n",
        "        else:\n",
        "            column_idx = column\n",
        "        return X, column_idx\n",
        "    \n",
        "\n",
        "\n",
        "\n",
        "#random missing dataframe\n",
        "        \n",
        "df = pd.DataFrame({'A':[1,2,3,4],'B':[4,5,6,7],'C':[7,8,9,10]})\n",
        "                   \n",
        "\n",
        "print (df)\n",
        "\n",
        "\n",
        "mask = np.random.choice([True, False], size=df.shape)\n",
        "print (mask)\n",
        "\n",
        "\n",
        "mask[mask.all(1),-1] = 0\n",
        "print (mask)\n",
        "\n",
        "print (df.mask(mask))\n",
        "impute=Imputer()\n",
        "impute.knn(df.mask(mask),1,k=2)\n",
        "impute.knn(df.mask(mask),1,k=2)\n"
      ],
      "execution_count": 0,
      "outputs": []
    }
  ]
}