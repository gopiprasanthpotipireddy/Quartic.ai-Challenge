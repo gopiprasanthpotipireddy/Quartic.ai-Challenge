{
  "nbformat": 4,
  "nbformat_minor": 0,
  "metadata": {
    "colab": {
      "name": "SMOTE.ipynb",
      "version": "0.3.2",
      "provenance": [],
      "collapsed_sections": [],
      "include_colab_link": true
    },
    "kernelspec": {
      "name": "python3",
      "display_name": "Python 3"
    },
    "accelerator": "GPU"
  },
  "cells": [
    {
      "cell_type": "markdown",
      "metadata": {
        "id": "view-in-github",
        "colab_type": "text"
      },
      "source": [
        "<a href=\"https://colab.research.google.com/github/gopiprasanthpotipireddy/Quartic.ai-Challenge/blob/master/SMOTE.ipynb\" target=\"_parent\"><img src=\"https://colab.research.google.com/assets/colab-badge.svg\" alt=\"Open In Colab\"/></a>"
      ]
    },
    {
      "metadata": {
        "id": "RYmWo-80dOUT",
        "colab_type": "text"
      },
      "cell_type": "markdown",
      "source": [
        "installing Python utilities"
      ]
    },
    {
      "metadata": {
        "id": "jSaF3nVQ1NxC",
        "colab_type": "code",
        "outputId": "e5815907-4506-444d-d993-06e835209a5d",
        "colab": {
          "base_uri": "https://localhost:8080/",
          "height": 416
        }
      },
      "cell_type": "code",
      "source": [
        "!apt-get --fix-broken install python-pycurl python-apt\n",
        "!apt-get install -y -qq software-properties-common module-init-tools git-core\n",
        "!add-apt-repository -y ppa:alessandro-strada/ppa 2>&1 > /dev/null\n",
        "!apt-get update -qq 2>&1 > /dev/null\n"
      ],
      "execution_count": 14,
      "outputs": [
        {
          "output_type": "stream",
          "text": [
            "Reading package lists... Done\n",
            "Building dependency tree       \n",
            "Reading state information... Done\n",
            "Suggested packages:\n",
            "  python-apt-dbg python-apt-doc libcurl4-gnutls-dev python-pycurl-dbg\n",
            "  python-pycurl-doc\n",
            "The following NEW packages will be installed:\n",
            "  python-apt python-pycurl\n",
            "0 upgraded, 2 newly installed, 0 to remove and 8 not upgraded.\n",
            "Need to get 192 kB of archives.\n",
            "After this operation, 860 kB of additional disk space will be used.\n",
            "Get:1 http://archive.ubuntu.com/ubuntu bionic-updates/main amd64 python-apt amd64 1.6.3ubuntu1 [149 kB]\n",
            "Get:2 http://archive.ubuntu.com/ubuntu bionic/main amd64 python-pycurl amd64 7.43.0.1-0.2 [43.1 kB]\n",
            "Fetched 192 kB in 0s (1,932 kB/s)\n",
            "Selecting previously unselected package python-apt.\n",
            "(Reading database ... 113598 files and directories currently installed.)\n",
            "Preparing to unpack .../python-apt_1.6.3ubuntu1_amd64.deb ...\n",
            "Unpacking python-apt (1.6.3ubuntu1) ...\n",
            "Selecting previously unselected package python-pycurl.\n",
            "Preparing to unpack .../python-pycurl_7.43.0.1-0.2_amd64.deb ...\n",
            "Unpacking python-pycurl (7.43.0.1-0.2) ...\n",
            "Setting up python-pycurl (7.43.0.1-0.2) ...\n",
            "Setting up python-apt (1.6.3ubuntu1) ...\n"
          ],
          "name": "stdout"
        }
      ]
    },
    {
      "metadata": {
        "id": "poxI6SZqdYqH",
        "colab_type": "text"
      },
      "cell_type": "markdown",
      "source": [
        "installing and suthenticating drive"
      ]
    },
    {
      "metadata": {
        "id": "4XpXDkM1cdLz",
        "colab_type": "code",
        "colab": {
          "base_uri": "https://localhost:8080/",
          "height": 211
        },
        "outputId": "8cbba0d5-3b95-45b2-b065-125e3b7292cf"
      },
      "cell_type": "code",
      "source": [
        "!apt-get -y install -qq google-drive-ocamlfuse fuse\n",
        "from google.colab import auth\n",
        "auth.authenticate_user()\n",
        "from oauth2client.client import GoogleCredentials\n",
        "creds = GoogleCredentials.get_application_default()\n",
        "import getpass\n",
        "!google-drive-ocamlfuse -headless -id={creds.client_id} -secret={creds.client_secret} < /dev/null 2>&1 | grep URL\n",
        "vcode = getpass.getpass()\n",
        "!echo {vcode} | google-drive-ocamlfuse -headless -id={creds.client_id} -secret={creds.client_secret}"
      ],
      "execution_count": 15,
      "outputs": [
        {
          "output_type": "stream",
          "text": [
            "Selecting previously unselected package google-drive-ocamlfuse.\n",
            "(Reading database ... \r(Reading database ... 5%\r(Reading database ... 10%\r(Reading database ... 15%\r(Reading database ... 20%\r(Reading database ... 25%\r(Reading database ... 30%\r(Reading database ... 35%\r(Reading database ... 40%\r(Reading database ... 45%\r(Reading database ... 50%\r(Reading database ... 55%\r(Reading database ... 60%\r(Reading database ... 65%\r(Reading database ... 70%\r(Reading database ... 75%\r(Reading database ... 80%\r(Reading database ... 85%\r(Reading database ... 90%\r(Reading database ... 95%\r(Reading database ... 100%\r(Reading database ... 113635 files and directories currently installed.)\n",
            "Preparing to unpack .../google-drive-ocamlfuse_0.7.1-0ubuntu3~ubuntu18.04.1_amd64.deb ...\n",
            "Unpacking google-drive-ocamlfuse (0.7.1-0ubuntu3~ubuntu18.04.1) ...\n",
            "Setting up google-drive-ocamlfuse (0.7.1-0ubuntu3~ubuntu18.04.1) ...\n",
            "Processing triggers for man-db (2.8.3-2ubuntu0.1) ...\n",
            "Please, open the following URL in a web browser: https://accounts.google.com/o/oauth2/auth?client_id=32555940559.apps.googleusercontent.com&redirect_uri=urn%3Aietf%3Awg%3Aoauth%3A2.0%3Aoob&scope=https%3A%2F%2Fwww.googleapis.com%2Fauth%2Fdrive&response_type=code&access_type=offline&approval_prompt=force\n",
            "··········\n",
            "Please, open the following URL in a web browser: https://accounts.google.com/o/oauth2/auth?client_id=32555940559.apps.googleusercontent.com&redirect_uri=urn%3Aietf%3Awg%3Aoauth%3A2.0%3Aoob&scope=https%3A%2F%2Fwww.googleapis.com%2Fauth%2Fdrive&response_type=code&access_type=offline&approval_prompt=force\n",
            "Please enter the verification code: Access token retrieved correctly.\n"
          ],
          "name": "stdout"
        }
      ]
    },
    {
      "metadata": {
        "id": "7HmsqOw9ddaO",
        "colab_type": "text"
      },
      "cell_type": "markdown",
      "source": [
        "mounting drive"
      ]
    },
    {
      "metadata": {
        "id": "9cUeYYWm2gBS",
        "colab_type": "code",
        "colab": {}
      },
      "cell_type": "code",
      "source": [
        "!mkdir -p drive\n",
        "!google-drive-ocamlfuse drive"
      ],
      "execution_count": 0,
      "outputs": []
    },
    {
      "metadata": {
        "id": "pwUAklPKeEx9",
        "colab_type": "text"
      },
      "cell_type": "markdown",
      "source": [
        "Quartic App Api"
      ]
    },
    {
      "metadata": {
        "id": "nwdLvlX30u8s",
        "colab_type": "code",
        "colab": {}
      },
      "cell_type": "code",
      "source": [
        "import os\n",
        "import pandas as pd\n",
        "from sklearn.metrics import average_precision_score,confusion_matrix, roc_curve, auc\n",
        "import matplotlib.pyplot as plt\n",
        "\n",
        "class QuarticApp:\n",
        "    def __init__(self):\n",
        "        self.train_data = None\n",
        "        self.test_data= None\n",
        "        return\n",
        "    \n",
        "    def read_data(self):\n",
        "        file_location=\"drive/Quartic.ai/ds_data/\"\n",
        "        self.train_data=pd.read_csv(os.path.join(file_location,\"data_train.csv\"))\n",
        "        self.test_data=pd.read_csv(os.path.join(file_location,\"data_test.csv\"))\n",
        "        #train_data.info()\n",
        "        #test_data=pd.read_csv(os.path.join(file_location,\"data_test.csv\"))\n",
        "        #test_data.info()\n",
        "        return\n",
        "\n",
        "    def build_model(self,model_type):\n",
        "        #model\n",
        "        return\n",
        "    \n",
        "    def ValidateColumns(self):    #checking for imputed and non imputed columns\n",
        "        self.features=list(self.train_data.columns)\n",
        "        self.im_features=[]\n",
        "        self.nonim_columns=[]\n",
        "        for i in range(1,len(self.train_data.columns)):\n",
        "            if self.train_data.iloc[:,i].isna().sum() == 0:\n",
        "                self.nonim_columns.append(self.features[i])\n",
        "            else:\n",
        "                self.im_features.append(self.features[i])\n",
        "                    \n",
        "        return \n",
        "\n",
        "def roc_binary(y_test,y_predict):\n",
        "    \n",
        "    fpr, tpr,_ = roc_curve(y_test, y_predict)\n",
        "    roc_auc = auc(fpr, tpr)\n",
        "    plt.figure()\n",
        "    plt.plot(fpr, tpr, color='darkorange',\n",
        "             lw=2, label='ROC curve (area = %0.2f)' % roc_auc)\n",
        "    plt.plot([0, 1], [0, 1], color='navy', lw=2, linestyle='--')\n",
        "    plt.xlim([0.0, 1.0])\n",
        "    plt.ylim([0.0, 1.05])\n",
        "    plt.xlabel('False Positive Rate')\n",
        "    plt.ylabel('True Positive Rate')\n",
        "    plt.title('ROC Curve')\n",
        "    plt.legend(loc=\"lower right\")\n",
        "    plt.show() "
      ],
      "execution_count": 0,
      "outputs": []
    },
    {
      "metadata": {
        "id": "xTbronWd3ZOZ",
        "colab_type": "text"
      },
      "cell_type": "markdown",
      "source": [
        "reading data"
      ]
    },
    {
      "metadata": {
        "id": "OWqw0WCW3QRh",
        "colab_type": "code",
        "colab": {
          "base_uri": "https://localhost:8080/",
          "height": 1111
        },
        "outputId": "e4f8855a-c6d9-4dbc-e17f-f49fa54f55c8"
      },
      "cell_type": "code",
      "source": [
        "Obj=QuarticApp()\n",
        "Obj.read_data()\n",
        "train_data=Obj.train_data\n",
        "train_data.columns\n",
        "train_data.info()\n",
        "test_data=Obj.test_data"
      ],
      "execution_count": 18,
      "outputs": [
        {
          "output_type": "stream",
          "text": [
            "<class 'pandas.core.frame.DataFrame'>\n",
            "RangeIndex: 596000 entries, 0 to 595999\n",
            "Data columns (total 58 columns):\n",
            "id        596000 non-null int64\n",
            "num1      596000 non-null int64\n",
            "num2      596000 non-null int64\n",
            "num3      596000 non-null int64\n",
            "num4      596000 non-null int64\n",
            "num5      596000 non-null int64\n",
            "num6      596000 non-null int64\n",
            "num7      596000 non-null int64\n",
            "num8      596000 non-null int64\n",
            "num9      596000 non-null int64\n",
            "num10     596000 non-null int64\n",
            "num11     596000 non-null int64\n",
            "num12     596000 non-null int64\n",
            "num13     596000 non-null int64\n",
            "num14     596000 non-null int64\n",
            "num15     596000 non-null int64\n",
            "num16     596000 non-null float64\n",
            "num17     596000 non-null float64\n",
            "num18     488091 non-null float64\n",
            "num19     595995 non-null float64\n",
            "num20     595999 non-null float64\n",
            "num21     596000 non-null float64\n",
            "num22     553333 non-null float64\n",
            "num23     596000 non-null float64\n",
            "der1      596000 non-null float64\n",
            "der2      596000 non-null float64\n",
            "der3      596000 non-null float64\n",
            "der4      596000 non-null int64\n",
            "der5      596000 non-null int64\n",
            "der6      596000 non-null int64\n",
            "der7      596000 non-null int64\n",
            "der8      596000 non-null int64\n",
            "der9      596000 non-null int64\n",
            "der10     596000 non-null int64\n",
            "der11     596000 non-null int64\n",
            "der12     596000 non-null int64\n",
            "der13     596000 non-null int64\n",
            "der14     596000 non-null int64\n",
            "der15     596000 non-null int64\n",
            "der16     596000 non-null int64\n",
            "der17     596000 non-null int64\n",
            "der18     596000 non-null int64\n",
            "der19     596000 non-null int64\n",
            "cat1      595783 non-null float64\n",
            "cat2      595917 non-null float64\n",
            "cat3      590186 non-null float64\n",
            "cat4      595893 non-null float64\n",
            "cat5      595995 non-null float64\n",
            "cat6      184208 non-null float64\n",
            "cat7      596000 non-null int64\n",
            "cat8      329072 non-null float64\n",
            "cat9      596000 non-null int64\n",
            "cat10     584497 non-null float64\n",
            "cat11     596000 non-null int64\n",
            "cat12     595430 non-null float64\n",
            "cat13     596000 non-null int64\n",
            "cat14     596000 non-null int64\n",
            "target    596000 non-null int64\n",
            "dtypes: float64(20), int64(38)\n",
            "memory usage: 263.7 MB\n"
          ],
          "name": "stdout"
        }
      ]
    },
    {
      "metadata": {
        "id": "Z0EzkLJ7h2uR",
        "colab_type": "code",
        "colab": {}
      },
      "cell_type": "code",
      "source": [
        "train_data=train_data.drop(['id'],axis=1)\n",
        "test_data=test_data.drop(['id'],axis=1)\n"
      ],
      "execution_count": 0,
      "outputs": []
    },
    {
      "metadata": {
        "id": "3ol0YbzR9xPF",
        "colab_type": "text"
      },
      "cell_type": "markdown",
      "source": [
        "Validating for non imputable columns"
      ]
    },
    {
      "metadata": {
        "id": "WPTJfOnl9lWz",
        "colab_type": "code",
        "colab": {}
      },
      "cell_type": "code",
      "source": [
        "Obj.ValidateColumns()"
      ],
      "execution_count": 0,
      "outputs": []
    },
    {
      "metadata": {
        "id": "plVcjOyn5DhX",
        "colab_type": "code",
        "colab": {
          "base_uri": "https://localhost:8080/",
          "height": 54
        },
        "outputId": "a43238b1-2d6e-4091-f62e-44093e812cb9"
      },
      "cell_type": "code",
      "source": [
        "print (Obj.nonim_columns)\n",
        "Obj.nonim_columns.remove('target')"
      ],
      "execution_count": 20,
      "outputs": [
        {
          "output_type": "stream",
          "text": [
            "['num1', 'num2', 'num3', 'num4', 'num5', 'num6', 'num7', 'num8', 'num9', 'num10', 'num11', 'num12', 'num13', 'num14', 'num15', 'num16', 'num17', 'num21', 'num23', 'der1', 'der2', 'der3', 'der4', 'der5', 'der6', 'der7', 'der8', 'der9', 'der10', 'der11', 'der12', 'der13', 'der14', 'der15', 'der16', 'der17', 'der18', 'der19', 'cat7', 'cat9', 'cat11', 'cat13', 'cat14', 'target']\n"
          ],
          "name": "stdout"
        }
      ]
    },
    {
      "metadata": {
        "id": "sJxAhdXu9wcs",
        "colab_type": "text"
      },
      "cell_type": "markdown",
      "source": [
        "x and y"
      ]
    },
    {
      "metadata": {
        "id": "KbpkVFau9r2l",
        "colab_type": "code",
        "colab": {}
      },
      "cell_type": "code",
      "source": [
        "x=train_data[Obj.nonim_columns]\n",
        "y=train_data[\"target\"]"
      ],
      "execution_count": 0,
      "outputs": []
    },
    {
      "metadata": {
        "id": "uBUmHEMGiK9Z",
        "colab_type": "text"
      },
      "cell_type": "markdown",
      "source": [
        "installing imblearn package"
      ]
    },
    {
      "metadata": {
        "id": "o4bMuRdu-X_7",
        "colab_type": "code",
        "outputId": "332e9eee-ba79-4a70-d688-0e066d86a80a",
        "colab": {
          "base_uri": "https://localhost:8080/",
          "height": 280
        }
      },
      "cell_type": "code",
      "source": [
        "!pip install -U git+https://github.com/scikit-learn-contrib/imbalanced-learn.git"
      ],
      "execution_count": 0,
      "outputs": [
        {
          "output_type": "stream",
          "text": [
            "Collecting git+https://github.com/scikit-learn-contrib/imbalanced-learn.git\n",
            "  Cloning https://github.com/scikit-learn-contrib/imbalanced-learn.git to /tmp/pip-req-build-l2hcaes4\n",
            "Requirement already satisfied, skipping upgrade: numpy>=1.8.2 in /usr/local/lib/python3.6/dist-packages (from imbalanced-learn==0.5.0.dev0) (1.14.6)\n",
            "Requirement already satisfied, skipping upgrade: scipy>=0.13.3 in /usr/local/lib/python3.6/dist-packages (from imbalanced-learn==0.5.0.dev0) (1.1.0)\n",
            "Requirement already satisfied, skipping upgrade: scikit-learn>=0.20 in /usr/local/lib/python3.6/dist-packages (from imbalanced-learn==0.5.0.dev0) (0.20.2)\n",
            "Building wheels for collected packages: imbalanced-learn\n",
            "  Building wheel for imbalanced-learn (setup.py) ... \u001b[?25ldone\n",
            "\u001b[?25h  Stored in directory: /tmp/pip-ephem-wheel-cache-tc7gjvvw/wheels/6c/07/cf/38cb9b7cc9e6a0ac7648a80ec192b6f2d863405fb0049ac0ff\n",
            "Successfully built imbalanced-learn\n",
            "Installing collected packages: imbalanced-learn\n",
            "  Found existing installation: imbalanced-learn 0.4.3\n",
            "    Uninstalling imbalanced-learn-0.4.3:\n",
            "      Successfully uninstalled imbalanced-learn-0.4.3\n",
            "Successfully installed imbalanced-learn-0.5.0.dev0\n"
          ],
          "name": "stdout"
        }
      ]
    },
    {
      "metadata": {
        "id": "fyHfgE73_Tcs",
        "colab_type": "code",
        "colab": {}
      },
      "cell_type": "code",
      "source": [
        "from imblearn.over_sampling import SMOTE"
      ],
      "execution_count": 0,
      "outputs": []
    },
    {
      "metadata": {
        "id": "hUOieaH_VnUd",
        "colab_type": "code",
        "colab": {}
      },
      "cell_type": "code",
      "source": [
        "from imblearn import over_sampling"
      ],
      "execution_count": 0,
      "outputs": []
    },
    {
      "metadata": {
        "id": "oJcLG5UsWBeB",
        "colab_type": "code",
        "colab": {}
      },
      "cell_type": "code",
      "source": [
        "from sklearn.svm import LinearSVC\n",
        "from sklearn import model_selection\n",
        "from sklearn.model_selection import GridSearchCV\n",
        "from sklearn.metrics import average_precision_score,confusion_matrix,precision_recall_curve,f1_score\n",
        "import numpy as np"
      ],
      "execution_count": 0,
      "outputs": []
    },
    {
      "metadata": {
        "id": "K_cHEKB5b0MI",
        "colab_type": "text"
      },
      "cell_type": "markdown",
      "source": [
        "# Preparing Augmented Data using SMOTE"
      ]
    },
    {
      "metadata": {
        "id": "f-qi8rq2-P4W",
        "colab_type": "code",
        "colab": {}
      },
      "cell_type": "code",
      "source": [
        "#random oversampling\n",
        "smote = SMOTE(random_state=2)\n",
        "\n",
        "#x_resampled, y_resampled = ros.fit_resample(x, y)"
      ],
      "execution_count": 0,
      "outputs": []
    },
    {
      "metadata": {
        "id": "UFOTriiAb90L",
        "colab_type": "text"
      },
      "cell_type": "markdown",
      "source": [
        "# train test split and resampled data using SMOTE"
      ]
    },
    {
      "metadata": {
        "id": "Y07oajYbvT0y",
        "colab_type": "code",
        "colab": {}
      },
      "cell_type": "code",
      "source": [
        "x_train, x_test, y_train, y_test = model_selection.train_test_split(\n",
        "    x, y, test_size=0.3, random_state=42)\n",
        "x_resampled, y_resampled = smote.fit_resample(x_train, y_train)\n"
      ],
      "execution_count": 0,
      "outputs": []
    },
    {
      "metadata": {
        "id": "vSPJb2UPMzza",
        "colab_type": "code",
        "colab": {
          "base_uri": "https://localhost:8080/",
          "height": 236
        },
        "outputId": "6a4f5d65-12a4-4bd1-edd6-90cb5a41412b"
      },
      "cell_type": "code",
      "source": [
        "svc=LinearSVC()\n",
        "parameters = {\n",
        "    'C': np.linspace(1, 10, 10)    \n",
        "             }\n",
        "cl=GridSearchCV(svc,parameters,cv=10,verbose=5,n_jobs=3)\n",
        "\n",
        "cl.fit(x_resampled,y_resampled)"
      ],
      "execution_count": 3,
      "outputs": [
        {
          "output_type": "error",
          "ename": "NameError",
          "evalue": "ignored",
          "traceback": [
            "\u001b[0;31m---------------------------------------------------------------------------\u001b[0m",
            "\u001b[0;31mNameError\u001b[0m                                 Traceback (most recent call last)",
            "\u001b[0;32m<ipython-input-3-35fad0cf39bc>\u001b[0m in \u001b[0;36m<module>\u001b[0;34m()\u001b[0m\n\u001b[0;32m----> 1\u001b[0;31m \u001b[0msvc\u001b[0m\u001b[0;34m=\u001b[0m\u001b[0mLinearSVC\u001b[0m\u001b[0;34m(\u001b[0m\u001b[0;34m)\u001b[0m\u001b[0;34m\u001b[0m\u001b[0;34m\u001b[0m\u001b[0m\n\u001b[0m\u001b[1;32m      2\u001b[0m parameters = {\n\u001b[1;32m      3\u001b[0m     \u001b[0;34m'C'\u001b[0m\u001b[0;34m:\u001b[0m \u001b[0mnp\u001b[0m\u001b[0;34m.\u001b[0m\u001b[0mlinspace\u001b[0m\u001b[0;34m(\u001b[0m\u001b[0;36m1\u001b[0m\u001b[0;34m,\u001b[0m \u001b[0;36m10\u001b[0m\u001b[0;34m,\u001b[0m \u001b[0;36m10\u001b[0m\u001b[0;34m)\u001b[0m\u001b[0;34m\u001b[0m\u001b[0;34m\u001b[0m\u001b[0m\n\u001b[1;32m      4\u001b[0m              }\n\u001b[1;32m      5\u001b[0m \u001b[0mcl\u001b[0m\u001b[0;34m=\u001b[0m\u001b[0mGridSearchCV\u001b[0m\u001b[0;34m(\u001b[0m\u001b[0msvc\u001b[0m\u001b[0;34m,\u001b[0m\u001b[0mparameters\u001b[0m\u001b[0;34m,\u001b[0m\u001b[0mcv\u001b[0m\u001b[0;34m=\u001b[0m\u001b[0;36m10\u001b[0m\u001b[0;34m,\u001b[0m\u001b[0mverbose\u001b[0m\u001b[0;34m=\u001b[0m\u001b[0;36m5\u001b[0m\u001b[0;34m,\u001b[0m\u001b[0mn_jobs\u001b[0m\u001b[0;34m=\u001b[0m\u001b[0;36m3\u001b[0m\u001b[0;34m)\u001b[0m\u001b[0;34m\u001b[0m\u001b[0;34m\u001b[0m\u001b[0m\n",
            "\u001b[0;31mNameError\u001b[0m: name 'LinearSVC' is not defined"
          ]
        }
      ]
    },
    {
      "metadata": {
        "id": "nyVWg1u4X_mu",
        "colab_type": "code",
        "colab": {}
      },
      "cell_type": "code",
      "source": [
        "import pickle"
      ],
      "execution_count": 0,
      "outputs": []
    },
    {
      "metadata": {
        "id": "dsjcytfEYBF_",
        "colab_type": "code",
        "colab": {}
      },
      "cell_type": "code",
      "source": [
        "pickle.dump('drive/Quartic.ai/smote.sav','wb')"
      ],
      "execution_count": 0,
      "outputs": []
    },
    {
      "metadata": {
        "id": "Ag97tfjyUbnk",
        "colab_type": "code",
        "colab": {
          "base_uri": "https://localhost:8080/",
          "height": 166
        },
        "outputId": "ca62ed6a-e271-4541-f501-d86312928bc7"
      },
      "cell_type": "code",
      "source": [
        "cl.cv_results_"
      ],
      "execution_count": 2,
      "outputs": [
        {
          "output_type": "error",
          "ename": "NameError",
          "evalue": "ignored",
          "traceback": [
            "\u001b[0;31m---------------------------------------------------------------------------\u001b[0m",
            "\u001b[0;31mNameError\u001b[0m                                 Traceback (most recent call last)",
            "\u001b[0;32m<ipython-input-2-28d21b3976b9>\u001b[0m in \u001b[0;36m<module>\u001b[0;34m()\u001b[0m\n\u001b[0;32m----> 1\u001b[0;31m \u001b[0mcl\u001b[0m\u001b[0;34m.\u001b[0m\u001b[0mcv_results_\u001b[0m\u001b[0;34m\u001b[0m\u001b[0;34m\u001b[0m\u001b[0m\n\u001b[0m",
            "\u001b[0;31mNameError\u001b[0m: name 'cl' is not defined"
          ]
        }
      ]
    },
    {
      "metadata": {
        "id": "Yi7-rXEvcAet",
        "colab_type": "text"
      },
      "cell_type": "markdown",
      "source": [
        "# Prediction and Scores"
      ]
    },
    {
      "metadata": {
        "id": "6TsCvNYUbbzW",
        "colab_type": "code",
        "outputId": "3ab4a143-c0e3-4a6d-dca0-4073887a258b",
        "colab": {
          "base_uri": "https://localhost:8080/",
          "height": 69
        }
      },
      "cell_type": "code",
      "source": [
        "y_pred=cl.predict(x_test)\n",
        "f=confusion_matrix(y_test,y_pred)\n",
        "print (average_precision_score(y_test,y_pred))\n",
        "print (precision_recall_curve(y_test,y_pred))\n",
        "print (f1_score(y_test,y_pred))"
      ],
      "execution_count": 0,
      "outputs": [
        {
          "output_type": "stream",
          "text": [
            "0.5064814651169637\n",
            "(array([0.49986567, 0.50687424, 1.        ]), array([1.        , 0.94395744, 0.        ]), array([0, 1]))\n",
            "0.6595771500003913\n"
          ],
          "name": "stdout"
        }
      ]
    },
    {
      "metadata": {
        "id": "NRHs8OTzUMfb",
        "colab_type": "code",
        "colab": {
          "base_uri": "https://localhost:8080/",
          "height": 166
        },
        "outputId": "3ae969fc-d075-4bb3-ae3d-f39e272f9bc8"
      },
      "cell_type": "code",
      "source": [
        ""
      ],
      "execution_count": 35,
      "outputs": [
        {
          "output_type": "error",
          "ename": "AttributeError",
          "evalue": "ignored",
          "traceback": [
            "\u001b[0;31m---------------------------------------------------------------------------\u001b[0m",
            "\u001b[0;31mAttributeError\u001b[0m                            Traceback (most recent call last)",
            "\u001b[0;32m<ipython-input-35-ea40ee9c95c5>\u001b[0m in \u001b[0;36m<module>\u001b[0;34m()\u001b[0m\n\u001b[0;32m----> 1\u001b[0;31m \u001b[0mcl\u001b[0m\u001b[0;34m.\u001b[0m\u001b[0mbest_params_\u001b[0m\u001b[0;34m\u001b[0m\u001b[0;34m\u001b[0m\u001b[0m\n\u001b[0m",
            "\u001b[0;31mAttributeError\u001b[0m: 'GridSearchCV' object has no attribute 'best_params_'"
          ]
        }
      ]
    },
    {
      "metadata": {
        "id": "NhWFSj7Gq-7G",
        "colab_type": "code",
        "outputId": "7a385d66-1a3d-4677-d12d-3c411e36e139",
        "colab": {
          "base_uri": "https://localhost:8080/",
          "height": 86
        }
      },
      "cell_type": "code",
      "source": [
        "tn, fp, fn,tp=confusion_matrix(y_test,y_pred).ravel()\n",
        "\n",
        "print (f)\n",
        "print (tn)\n",
        "print (fp)\n"
      ],
      "execution_count": 0,
      "outputs": [
        {
          "output_type": "stream",
          "text": [
            "[[ 33029 369078]\n",
            " [ 22523 379368]]\n",
            "33029\n",
            "369078\n"
          ],
          "name": "stdout"
        }
      ]
    },
    {
      "metadata": {
        "id": "EsSp3kXpu62R",
        "colab_type": "code",
        "outputId": "19098a8c-0274-4ce4-f6fa-eb106e5c1140",
        "colab": {
          "base_uri": "https://localhost:8080/",
          "height": 34
        }
      },
      "cell_type": "code",
      "source": [
        "len(train_data)\n",
        "tn+tp"
      ],
      "execution_count": 0,
      "outputs": [
        {
          "output_type": "execute_result",
          "data": {
            "text/plain": [
              "412397"
            ]
          },
          "metadata": {
            "tags": []
          },
          "execution_count": 33
        }
      ]
    },
    {
      "metadata": {
        "id": "hZ5X3hbkuNPf",
        "colab_type": "code",
        "outputId": "0cf3fd2f-0657-4ed6-cfa5-5a5f06daca27",
        "colab": {
          "base_uri": "https://localhost:8080/",
          "height": 69
        }
      },
      "cell_type": "code",
      "source": [
        "precision_recall_curve(y_test,y_pred)\n"
      ],
      "execution_count": 0,
      "outputs": [
        {
          "output_type": "execute_result",
          "data": {
            "text/plain": [
              "(array([0.49986567, 0.50687424, 1.        ]),\n",
              " array([1.        , 0.94395744, 0.        ]),\n",
              " array([0, 1]))"
            ]
          },
          "metadata": {
            "tags": []
          },
          "execution_count": 34
        }
      ]
    },
    {
      "metadata": {
        "id": "x_6sweIzuUQ1",
        "colab_type": "code",
        "outputId": "f68afac6-7677-476d-fa5a-62db7f449527",
        "colab": {
          "base_uri": "https://localhost:8080/",
          "height": 34
        }
      },
      "cell_type": "code",
      "source": [
        "average_precision_score(y_test,y_pred)\n"
      ],
      "execution_count": 0,
      "outputs": [
        {
          "output_type": "execute_result",
          "data": {
            "text/plain": [
              "0.5064814651169637"
            ]
          },
          "metadata": {
            "tags": []
          },
          "execution_count": 35
        }
      ]
    },
    {
      "metadata": {
        "id": "y1ACGvqtDYUZ",
        "colab_type": "code",
        "outputId": "ebc99e1c-b5bd-4bb5-9527-ac1b4ffb3342",
        "colab": {
          "base_uri": "https://localhost:8080/",
          "height": 376
        }
      },
      "cell_type": "code",
      "source": [
        "from sklearn.metrics import roc_auc_score,roc_curve,auc\n",
        "roc_auc_score(y_test,y_pred)\n",
        "roc_binary`(y_test,y_pred)\n"
      ],
      "execution_count": 0,
      "outputs": [
        {
          "output_type": "display_data",
          "data": {
            "image/png": "[encoded data removed]",
            "text/plain": [
              "<Figure size 576x396 with 1 Axes>"
            ]
          },
          "metadata": {
            "tags": []
          }
        }
      ]
    },
    {
      "metadata": {
        "id": "UmW0JEvem-Iq",
        "colab_type": "code",
        "outputId": "0b4e1a5e-870f-4751-b6c5-03b99d2924f8",
        "colab": {
          "base_uri": "https://localhost:8080/",
          "height": 399
        }
      },
      "cell_type": "code",
      "source": [
        "#!/usr/bin/env python3\n",
        "# -*- coding: utf-8 -*-\n",
        "\"\"\"\n",
        "Created on Thu Jun  7 22:58:00 2018\n",
        "\n",
        "@author: gopiprasanth\n",
        "\"\"\"\n",
        "\n",
        "\"\"\"Impute missing values with k nearest classifier.\"\"\"\n",
        "\n",
        "import numpy as np\n",
        "import pandas as pd\n",
        "from sklearn import neighbors\n",
        "\n",
        "\n",
        "class Imputer:\n",
        "    \"\"\"Imputer class.\"\"\"\n",
        "\n",
        "    def _fit(self, X, column, k=10, is_categorical=False):\n",
        "        \"\"\"Fit a knn classifier for missing column.\n",
        "        - Args:\n",
        "                X(numpy.ndarray): input data\n",
        "                column(int): column id to be imputed\n",
        "                k(int): number of nearest neighbors, default 10\n",
        "                is_categorical(boolean): is continuous or categorical feature\n",
        "        - Returns:\n",
        "                clf: trained k nearest neighbour classifier\n",
        "        \"\"\"\n",
        "        clf = None\n",
        "        if not is_categorical:\n",
        "            clf = neighbors.KNeighborsRegressor(n_neighbors=k)\n",
        "        else:\n",
        "            clf = neighbors.KNeighborsClassifier(n_neighbors=k)\n",
        "        # use column not null to train the kNN classifier\n",
        "        missing_idxes = np.where(pd.isnull(X[:, column]))[0]\n",
        "        if len(missing_idxes) == 0:\n",
        "            return None\n",
        "        X_copy = np.delete(X, missing_idxes, 0)\n",
        "        X_train = np.delete(X_copy, column, 1)\n",
        "        # if other columns still have missing values fill with mean\n",
        "        col_mean = None\n",
        "        if not is_categorical:\n",
        "            col_mean = np.nanmean(X, 0)\n",
        "        else:\n",
        "            col_mean = np.nanmedian(X, 0)\n",
        "        for col_id in range(0, len(col_mean) - 1):\n",
        "            col_missing_idxes = np.where(np.isnan(X_train[:, col_id]))[0]\n",
        "            if len(col_missing_idxes) == 0:\n",
        "                continue\n",
        "            else:\n",
        "                X_train[col_missing_idxes, col_id] = col_mean[col_id]\n",
        "        y_train = X_copy[:, column]\n",
        "        # fit classifier\n",
        "        clf.fit(X_train, y_train)\n",
        "        return clf\n",
        "\n",
        "    def _transform(self, X, column, clf, is_categorical):\n",
        "        \"\"\"Impute missing values.\n",
        "        - Args:\n",
        "                X(numpy.ndarray): input numpy ndarray\n",
        "                column(int): index of column to be imputed\n",
        "                clf: pretrained classifier\n",
        "                is_categorical(boolean): is continuous or categorical feature\n",
        "        - Returns:\n",
        "                X(pandas.dataframe): imputed dataframe\n",
        "        \"\"\"\n",
        "        missing_idxes = np.where(np.isnan(X[:, column]))[0]\n",
        "        X_test = X[missing_idxes, :]\n",
        "        X_test = np.delete(X_test, column, 1)\n",
        "        # if other columns still have missing values fill with mean\n",
        "        col_mean = None\n",
        "        if not is_categorical:\n",
        "            col_mean = np.nanmean(X, 0)\n",
        "        else:\n",
        "            col_mean = np.nanmedian(X, 0)\n",
        "        # fill missing values in each column with current col_mean\n",
        "        for col_id in range(0, len(col_mean) - 1):\n",
        "            col_missing_idxes = np.where(np.isnan(X_test[:, col_id]))[0]\n",
        "            # if no missing values for current column\n",
        "            if len(col_missing_idxes) == 0:\n",
        "                continue\n",
        "            else:\n",
        "                X_test[col_missing_idxes, col_id] = col_mean[col_id]\n",
        "        # predict missing values\n",
        "        y_test = clf.predict(X_test)\n",
        "        X[missing_idxes, column] = y_test\n",
        "        return X\n",
        "\n",
        "    def knn(self, X, column, k=10, is_categorical=False):\n",
        "        \"\"\"Impute missing value with knn.\n",
        "        - Args:\n",
        "                X(pandas.dataframe): dataframe\n",
        "                column(str): column name to be imputed\n",
        "                k(int): number of nearest neighbors, default 10\n",
        "                is_categorical(boolean): is continuous or categorical feature\n",
        "        - Returns:\n",
        "                X_imputed(pandas.dataframe): imputed pandas dataframe\n",
        "        \"\"\"\n",
        "        X, column = self._check_X_y(X, column)\n",
        "        clf = self._fit(X, column, k, is_categorical)\n",
        "        if clf is None:\n",
        "            return X\n",
        "        else:\n",
        "            X_imputed = self._transform(X, column, clf, is_categorical)\n",
        "            return X_imputed\n",
        "\n",
        "    def _check_X_y(self, X, column):\n",
        "        \"\"\"Check input, if pandas.dataframe, transform to numpy array.\n",
        "        - Args:\n",
        "                X(ndarray/pandas.dataframe): input instances\n",
        "                column(str/int): column index or column name\n",
        "        - Returns:\n",
        "                X(ndarray): input instances\n",
        "        \"\"\"\n",
        "        column_idx = None\n",
        "        if isinstance(X, pd.core.frame.DataFrame):\n",
        "            if isinstance(column, str):\n",
        "                # get index of current column\n",
        "                column_idx = X.columns.get_loc(column)\n",
        "            else:\n",
        "                column_idx = column\n",
        "            X = X.as_matrix()\n",
        "        else:\n",
        "            column_idx = column\n",
        "        return X, column_idx\n",
        "    \n",
        "\n",
        "\n",
        "\n",
        "#random missing dataframe\n",
        "        \n",
        "df = pd.DataFrame({'A':[1,2,3,4],'B':[4,5,6,7],'C':[7,8,9,10]})\n",
        "                   \n",
        "\n",
        "print (df)\n",
        "\n",
        "\n",
        "mask = np.random.choice([True, False], size=df.shape)\n",
        "print (mask)\n",
        "\n",
        "\n",
        "mask[mask.all(1),-1] = 0\n",
        "print (mask)\n",
        "\n",
        "print (df.mask(mask))\n",
        "impute=Imputer()\n",
        "impute.knn(df.mask(mask),1,k=2)\n",
        "impute.knn(df.mask(mask),1,k=2)\n"
      ],
      "execution_count": 0,
      "outputs": [
        {
          "output_type": "stream",
          "text": [
            "   A  B   C\n",
            "0  1  4   7\n",
            "1  2  5   8\n",
            "2  3  6   9\n",
            "3  4  7  10\n",
            "[[False False False]\n",
            " [False  True False]\n",
            " [False False  True]\n",
            " [ True False  True]]\n",
            "[[False False False]\n",
            " [False  True False]\n",
            " [False False  True]\n",
            " [ True False  True]]\n",
            "     A    B    C\n",
            "0  1.0  4.0  7.0\n",
            "1  2.0  NaN  8.0\n",
            "2  3.0  6.0  NaN\n",
            "3  NaN  7.0  NaN\n"
          ],
          "name": "stdout"
        },
        {
          "output_type": "execute_result",
          "data": {
            "text/plain": [
              "array([[1. , 4. , 7. ],\n",
              "       [2. , 5.5, 8. ],\n",
              "       [3. , 6. , nan],\n",
              "       [nan, 7. , nan]])"
            ]
          },
          "metadata": {
            "tags": []
          },
          "execution_count": 36
        }
      ]
    }
  ]
}